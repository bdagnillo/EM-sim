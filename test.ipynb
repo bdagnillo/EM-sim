{
 "cells": [
  {
   "cell_type": "code",
   "execution_count": 210,
   "metadata": {},
   "outputs": [
    {
     "data": {
      "text/plain": [
       "{'divide': 'ignore', 'over': 'warn', 'under': 'ignore', 'invalid': 'warn'}"
      ]
     },
     "execution_count": 210,
     "metadata": {},
     "output_type": "execute_result"
    }
   ],
   "source": [
    "import numpy as np\n",
    "import matplotlib.pyplot as plt\n",
    "np.seterr(divide='ignore')"
   ]
  },
  {
   "cell_type": "code",
   "execution_count": 211,
   "metadata": {},
   "outputs": [],
   "source": [
    "# constants\n",
    "epsilon_0 = 1e-10"
   ]
  },
  {
   "cell_type": "code",
   "execution_count": 212,
   "metadata": {},
   "outputs": [
    {
     "name": "stdout",
     "output_type": "stream",
     "text": [
      "(100, 100)\n"
     ]
    }
   ],
   "source": [
    "def create_cells(x=100,y=100,pad=False):\n",
    "    if pad:\n",
    "        return np.pad(np.zeros((x,y)),1)        \n",
    "    else:\n",
    "        return np.zeros((x,y))\n",
    "\n",
    "#non-zero values in each cell represents charge density in that cell\n",
    "plane = create_cells(100,100)\n",
    "plane[0,0] = 1\n",
    "plane[15,15] = 1\n",
    "plane[61,27] = 4\n",
    "plane[25,78] = 10\n",
    "# print(plane[(0,0)])\n",
    "\n",
    "def distance_to_cell(c1: tuple, c2: tuple):\n",
    "    return np.sqrt((c2[0] - c1[0])**2 + (c2[1] - c1[1])**2)\n",
    "    \n",
    "# print(distance_to_cell((0,0),(0,1)))\n",
    "\n",
    "def compute_single_V(c: tuple):\n",
    "    single_V = np.zeros(plane.shape)\n",
    "    q = plane[c]\n",
    "    for y in range(plane.shape[0]):\n",
    "        for x in range(plane.shape[1]):\n",
    "            r = distance_to_cell(c,(y,x))\n",
    "            single_V[y,x] = q/(4*np.pi*epsilon_0*r)\n",
    "\n",
    "\n",
    "    return single_V\n",
    "    \n",
    "def compute_all_V():\n",
    "    all_V = np.zeros(plane.shape)\n",
    "    for y in range(plane.shape[0]):\n",
    "        for x in range(plane.shape[1]):\n",
    "            if plane[y,x] == 0:\n",
    "                continue\n",
    "            all_V += compute_single_V((y,x))\n",
    "            \n",
    "    return all_V\n",
    "\n",
    "\n",
    "resulting_V = compute_all_V()\n",
    "resulting_E = np.gradient(resulting_V)\n",
    "print(resulting_E[0].shape)"
   ]
  },
  {
   "cell_type": "code",
   "execution_count": 213,
   "metadata": {},
   "outputs": [
    {
     "data": {
      "text/plain": [
       "<matplotlib.image.AxesImage at 0x1c6b4b0d150>"
      ]
     },
     "execution_count": 213,
     "metadata": {},
     "output_type": "execute_result"
    },
    {
     "data": {
      "image/png": "[encoded data removed]",
      "text/plain": [
       "<Figure size 640x480 with 1 Axes>"
      ]
     },
     "metadata": {},
     "output_type": "display_data"
    }
   ],
   "source": [
    "plt.imshow(resulting_V)\n"
   ]
  },
  {
   "cell_type": "code",
   "execution_count": null,
   "metadata": {},
   "outputs": [],
   "source": []
  }
 ],
 "metadata": {
  "kernelspec": {
   "display_name": "base",
   "language": "python",
   "name": "python3"
  },
  "language_info": {
   "codemirror_mode": {
    "name": "ipython",
    "version": 3
   },
   "file_extension": ".py",
   "mimetype": "text/x-python",
   "name": "python",
   "nbconvert_exporter": "python",
   "pygments_lexer": "ipython3",
   "version": "3.11.5"
  }
 },
 "nbformat": 4,
 "nbformat_minor": 2
}
